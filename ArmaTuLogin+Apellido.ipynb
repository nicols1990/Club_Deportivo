{
  "cells": [
    {
      "cell_type": "markdown",
      "metadata": {
        "id": "view-in-github",
        "colab_type": "text"
      },
      "source": [
        "<a href=\"https://colab.research.google.com/github/nicols1990/Club_Deportivo/blob/main/ArmaTuLogin%2BApellido.ipynb\" target=\"_parent\"><img src=\"https://colab.research.google.com/assets/colab-badge.svg\" alt=\"Open In Colab\"/></a>"
      ]
    },
    {
      "cell_type": "code",
      "execution_count": null,
      "metadata": {
        "colab": {
          "base_uri": "https://localhost:8080/"
        },
        "id": "C1klcS0cWFhE",
        "outputId": "54eea26b-2a65-46dc-9d54-eb0f39851867"
      },
      "outputs": [
        {
          "name": "stdout",
          "output_type": "stream",
          "text": [
            "Ingrese nombre de usuario y contraseña\n",
            "El programa se cierra al poner en SALIR\n",
            "Ingrese nombre usuario: nicolas\n",
            "Ingrese contraseña: vel\n",
            "¡Se guardo con existo!\n",
            "Quiere ingresar un nuevo usuario? Si no quiere, ingrese Salir salie\n",
            "Ingrese contraseña: ni\n",
            "¡Se guardo con existo!\n",
            "Quiere ingresar un nuevo usuario? Si no quiere, ingrese Salir salir\n"
          ]
        }
      ],
      "source": [
        "def carga_de_datos():\n",
        "    lista_de_datos_guardados=[]\n",
        "    print (\"Ingrese nombre de usuario y contraseña\")\n",
        "    print (\"El programa se cierra al poner en \"\"SALIR\")\n",
        "    nombre_usuario=input(\"Ingrese nombre usuario: \")\n",
        "\n",
        "    while (nombre_usuario.lower() != \"salir\"):\n",
        "        contraseña=input(\"Ingrese contraseña: \")\n",
        "        for registro in lista_de_datos_guardados:\n",
        "            if registro[0]==nombre_usuario and registro[1]==contraseña:\n",
        "                print (\"¡Nombre de usuario y contraseña existe!\")\n",
        "                break\n",
        "        else:\n",
        "            lista_de_datos_guardados.append([nombre_usuario,contraseña])\n",
        "            print (\"¡Se guardo con exito!\")\n",
        "        nombre_usuario=input(\"Quiere ingresar un nuevo usuario? Si no quiere, ingrese Salir \")\n",
        "    return lista_de_datos_guardados\n",
        "\n",
        "x=carga_de_datos()\n",
        "\n",
        "\n"
      ]
    },
    {
      "cell_type": "code",
      "source": [
        "def imprimir_usuarios(lista_datos):\n",
        "    for datos in lista_datos:\n",
        "        print (\"Los datos guardados son\")\n",
        "        print (\"Nombre de usuario \", datos[0],\", \"\"Contraseña\", datos[1])\n",
        "\n",
        "\n",
        "imprimir_usuarios(x)"
      ],
      "metadata": {
        "colab": {
          "base_uri": "https://localhost:8080/"
        },
        "id": "ekvkFKiZk1Do",
        "outputId": "ee9f53fa-7234-4827-e4dd-b1aed7cbbf5c"
      },
      "execution_count": null,
      "outputs": [
        {
          "output_type": "stream",
          "name": "stdout",
          "text": [
            "Los datos guardasdos son guardados son\n",
            "Nombre de usuario  nicolas , Contraseña vel\n",
            "Los datos guardasdos son guardados son\n",
            "Nombre de usuario  salie , Contraseña ni\n"
          ]
        }
      ]
    },
    {
      "cell_type": "code",
      "source": [
        "def login(lista_datos):\n",
        "  nombre_usuario=input(\"Ingrese nombre de usuario: \")\n",
        "  contraseña=input(\"Ingrese contraseña: \")\n",
        "  for datos in lista_datos:\n",
        "    if datos[0]==nombre_usuario and datos[1]==contraseña:\n",
        "        print (\"¡Ingresaste al sistema!\")\n",
        "    elif datos[0]==nombre_usuario and datos[1]!=contraseña:\n",
        "        print (\"¡Contraseña incorrecta!\")\n",
        "    elif datos[0]==nombre_usuario and datos[1]!=contraseña:\n",
        "        print (\"¡Contraseña incorrecta!\")\n",
        "    else:\n",
        "        print (\"Nombre de usuario y no existen\")\n",
        "login(x)"
      ],
      "metadata": {
        "colab": {
          "base_uri": "https://localhost:8080/"
        },
        "id": "lfVxaO_bkUrR",
        "outputId": "1a55a850-8d32-4f9c-e56f-a1c53dccb0aa"
      },
      "execution_count": null,
      "outputs": [
        {
          "output_type": "stream",
          "name": "stdout",
          "text": [
            "Ingrese nombre de usuario: nicolas\n",
            "Ingrese contraseña: vel\n",
            "Ingresaste al sistema\n",
            "Nombre de usuario y no existen\n"
          ]
        }
      ]
    }
  ],
  "metadata": {
    "colab": {
      "provenance": [],
      "authorship_tag": "ABX9TyNUUo+88t0U+bmk+IBh6Wl+",
      "include_colab_link": true
    },
    "kernelspec": {
      "display_name": "Python 3",
      "name": "python3"
    },
    "language_info": {
      "name": "python"
    }
  },
  "nbformat": 4,
  "nbformat_minor": 0
}