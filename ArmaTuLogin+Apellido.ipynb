{
  "cells": [
    {
      "cell_type": "markdown",
      "metadata": {
        "id": "view-in-github",
        "colab_type": "text"
      },
      "source": [
        "<a href=\"https://colab.research.google.com/github/nicols1990/Club_Deportivo/blob/main/ArmaTuLogin%2BApellido.ipynb\" target=\"_parent\"><img src=\"https://colab.research.google.com/assets/colab-badge.svg\" alt=\"Open In Colab\"/></a>"
      ]
    },
    {
      "cell_type": "code",
      "execution_count": null,
      "metadata": {
        "colab": {
          "base_uri": "https://localhost:8080/"
        },
        "id": "C1klcS0cWFhE",
        "outputId": "92e9f682-d65e-43eb-bdcf-dda4817f6bc5"
      },
      "outputs": [
        {
          "name": "stdout",
          "output_type": "stream",
          "text": [
            "Ingrese nombre de usuario y contraseña\n",
            "El programa se cierra al poner en SALIR\n",
            "Ingrese nombre usuario: nicolas\n",
            "Ingrese contraseña: ce\n",
            "¡Se guardo con exito!\n",
            "Quiere ingresar un nuevo usuario? Si no quiere, ingrese Salir salir\n"
          ]
        }
      ],
      "source": [
        "def carga_de_datos():\n",
        "    lista_de_datos_guardados=[]\n",
        "    print (\"Ingrese nombre de usuario y contraseña\")\n",
        "    print (\"El programa se cierra al poner en \"\"SALIR\")\n",
        "    nombre_usuario=input(\"Ingrese nombre usuario: \")\n",
        "\n",
        "    while (nombre_usuario.lower() != \"salir\"):\n",
        "        contraseña=input(\"Ingrese contraseña: \")\n",
        "        for registro in lista_de_datos_guardados:\n",
        "            if registro[0]==nombre_usuario and registro[1]==contraseña:\n",
        "                print (\"¡Nombre de usuario y contraseña existe!\")\n",
        "                break\n",
        "        else:\n",
        "            lista_de_datos_guardados.append([nombre_usuario,contraseña])\n",
        "            print (\"¡Se guardo con exito!\")\n",
        "        nombre_usuario=input(\"Quiere ingresar un nuevo usuario? Si no quiere, ingrese Salir \")\n",
        "    return lista_de_datos_guardados\n",
        "\n",
        "x=carga_de_datos()\n",
        "\n",
        "\n"
      ]
    },
    {
      "cell_type": "code",
      "source": [
        "def imprimir_usuarios(lista_datos):\n",
        "    print (\"Los datos guardados son\")\n",
        "    for datos in lista_datos:\n",
        "        print (\"Nombre de usuario \", datos[0],\", \"\"Contraseña\", datos[1])\n",
        "\n",
        "\n",
        "imprimir_usuarios(x)"
      ],
      "metadata": {
        "colab": {
          "base_uri": "https://localhost:8080/"
        },
        "id": "ekvkFKiZk1Do",
        "outputId": "68383e6d-540d-48a4-eee7-b01780a64e4d"
      },
      "execution_count": null,
      "outputs": [
        {
          "output_type": "stream",
          "name": "stdout",
          "text": [
            "Los datos guardados son\n",
            "Nombre de usuario  nicolas , Contraseña ce\n"
          ]
        }
      ]
    },
    {
      "cell_type": "code",
      "source": [
        "def login(lista_datos):\n",
        "  nombre_usuario=input(\"Ingrese nombre de usuario: \")\n",
        "  contraseña=input(\"Ingrese contraseña: \")\n",
        "  for datos in lista_datos:\n",
        "    if datos[0]==nombre_usuario and datos[1]==contraseña:\n",
        "        print (\"¡Ingresaste al sistema!\")\n",
        "        break\n",
        "    elif datos[0]==nombre_usuario and datos[1]!=contraseña:\n",
        "        print (\"¡Contraseña incorrecta!\")\n",
        "        break\n",
        "    elif datos[0]==nombre_usuario and datos[1]!=contraseña:\n",
        "        print (\"¡Contraseña incorrecta!\")\n",
        "  else:\n",
        "      print (\"Nombre de usuario y no existen\")\n",
        "login(x)"
      ],
      "metadata": {
        "colab": {
          "base_uri": "https://localhost:8080/"
        },
        "id": "lfVxaO_bkUrR",
        "outputId": "39dc1596-8866-427c-ab42-5d1383d805c1"
      },
      "execution_count": null,
      "outputs": [
        {
          "output_type": "stream",
          "name": "stdout",
          "text": [
            "Ingrese nombre de usuario: nas\n",
            "Ingrese contraseña: a\n",
            "Nombre de usuario y no existen\n"
          ]
        }
      ]
    }
  ],
  "metadata": {
    "colab": {
      "provenance": [],
      "authorship_tag": "ABX9TyMd2MrcPZWCCpcFJcA7KAb5",
      "include_colab_link": true
    },
    "kernelspec": {
      "display_name": "Python 3",
      "name": "python3"
    },
    "language_info": {
      "name": "python"
    }
  },
  "nbformat": 4,
  "nbformat_minor": 0
}